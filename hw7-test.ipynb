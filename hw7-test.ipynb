{
 "cells": [
  {
   "cell_type": "code",
   "execution_count": 2,
   "id": "d5dcd3dd",
   "metadata": {},
   "outputs": [
    {
     "name": "stdout",
     "output_type": "stream",
     "text": [
      "The autoreload extension is already loaded. To reload it, use:\n",
      "  %reload_ext autoreload\n"
     ]
    }
   ],
   "source": [
    "%load_ext autoreload\n",
    "%autoreload 2"
   ]
  },
  {
   "cell_type": "code",
   "execution_count": 3,
   "id": "a363d5be",
   "metadata": {},
   "outputs": [],
   "source": [
    "import numpy as np\n",
    "import regression\n",
    "import scikitlearn as sklearn\n",
    "from sklearn.preprocessing import StandardScaler"
   ]
  },
  {
   "cell_type": "code",
   "execution_count": 4,
   "id": "cf010de7",
   "metadata": {},
   "outputs": [],
   "source": [
    "from sklearn.linear_model import LogisticRegression\n",
    "from sklearn.metrics import log_loss"
   ]
  },
  {
   "cell_type": "code",
   "execution_count": 8,
   "id": "fd704152",
   "metadata": {},
   "outputs": [
    {
     "ename": "AttributeError",
     "evalue": "'LogisticRegressor' object has no attribute 'error'",
     "output_type": "error",
     "traceback": [
      "\u001b[0;31m---------------------------------------------------------------------------\u001b[0m",
      "\u001b[0;31mAttributeError\u001b[0m                            Traceback (most recent call last)",
      "Input \u001b[0;32mIn [8]\u001b[0m, in \u001b[0;36m<cell line: 24>\u001b[0;34m()\u001b[0m\n\u001b[1;32m     21\u001b[0m \u001b[38;5;66;03m# For testing purposes, once you've added your code.\u001b[39;00m\n\u001b[1;32m     22\u001b[0m \u001b[38;5;66;03m# CAUTION: hyperparameters have not been optimized.\u001b[39;00m\n\u001b[1;32m     23\u001b[0m log_model \u001b[38;5;241m=\u001b[39m regression\u001b[38;5;241m.\u001b[39mlogreg\u001b[38;5;241m.\u001b[39mLogisticRegressor(num_feats\u001b[38;5;241m=\u001b[39m\u001b[38;5;241m6\u001b[39m, learning_rate\u001b[38;5;241m=\u001b[39m\u001b[38;5;241m0.00001\u001b[39m, tol\u001b[38;5;241m=\u001b[39m\u001b[38;5;241m0.01\u001b[39m, max_iter\u001b[38;5;241m=\u001b[39m\u001b[38;5;241m10\u001b[39m, batch_size\u001b[38;5;241m=\u001b[39m\u001b[38;5;241m10\u001b[39m)\n\u001b[0;32m---> 24\u001b[0m \u001b[43mlog_model\u001b[49m\u001b[38;5;241;43m.\u001b[39;49m\u001b[43mtrain_model\u001b[49m\u001b[43m(\u001b[49m\u001b[43mX_train\u001b[49m\u001b[43m,\u001b[49m\u001b[43m \u001b[49m\u001b[43my_train\u001b[49m\u001b[43m,\u001b[49m\u001b[43m \u001b[49m\u001b[43mX_val\u001b[49m\u001b[43m,\u001b[49m\u001b[43m \u001b[49m\u001b[43my_val\u001b[49m\u001b[43m)\u001b[49m\n\u001b[1;32m     25\u001b[0m log_model\u001b[38;5;241m.\u001b[39mplot_loss_history()\n",
      "File \u001b[0;32m~/Documents/2023/bmi203/hw7-regression/regression/logreg.py:65\u001b[0m, in \u001b[0;36mBaseRegressor.train_model\u001b[0;34m(self, X_train, y_train, X_val, y_val)\u001b[0m\n\u001b[1;32m     61\u001b[0m \u001b[38;5;28;01mfor\u001b[39;00m X_train, y_train \u001b[38;5;129;01min\u001b[39;00m \u001b[38;5;28mzip\u001b[39m(X_batch, y_batch):\n\u001b[1;32m     62\u001b[0m \n\u001b[1;32m     63\u001b[0m     \u001b[38;5;66;03m# Make prediction and calculate loss\u001b[39;00m\n\u001b[1;32m     64\u001b[0m     y_pred \u001b[38;5;241m=\u001b[39m \u001b[38;5;28mself\u001b[39m\u001b[38;5;241m.\u001b[39mmake_prediction(X_train)\n\u001b[0;32m---> 65\u001b[0m     train_loss \u001b[38;5;241m=\u001b[39m \u001b[38;5;28;43mself\u001b[39;49m\u001b[38;5;241;43m.\u001b[39;49m\u001b[43mloss_function\u001b[49m\u001b[43m(\u001b[49m\u001b[43my_train\u001b[49m\u001b[43m,\u001b[49m\u001b[43m \u001b[49m\u001b[43my_pred\u001b[49m\u001b[43m)\u001b[49m\n\u001b[1;32m     66\u001b[0m     \u001b[38;5;28mself\u001b[39m\u001b[38;5;241m.\u001b[39mloss_hist_train\u001b[38;5;241m.\u001b[39mappend(train_loss)\n\u001b[1;32m     68\u001b[0m     \u001b[38;5;66;03m# Update weights\u001b[39;00m\n",
      "File \u001b[0;32m~/Documents/2023/bmi203/hw7-regression/regression/logreg.py:149\u001b[0m, in \u001b[0;36mLogisticRegressor.loss_function\u001b[0;34m(self, y_true, y_pred)\u001b[0m\n\u001b[1;32m    137\u001b[0m \u001b[38;5;124;03m\"\"\"\u001b[39;00m\n\u001b[1;32m    138\u001b[0m \u001b[38;5;124;03mTODO: Implement binary cross entropy loss, which assumes that the true labels are either\u001b[39;00m\n\u001b[1;32m    139\u001b[0m \u001b[38;5;124;03m0 or 1. (This can be extended to more than two classes, but here we have just two.)\u001b[39;00m\n\u001b[0;32m   (...)\u001b[0m\n\u001b[1;32m    146\u001b[0m \u001b[38;5;124;03m    The mean loss (a single number).\u001b[39;00m\n\u001b[1;32m    147\u001b[0m \u001b[38;5;124;03m\"\"\"\u001b[39;00m\n\u001b[1;32m    148\u001b[0m \u001b[38;5;66;03m#avoid divide by zero error\u001b[39;00m\n\u001b[0;32m--> 149\u001b[0m y_pred[y_pred\u001b[38;5;241m==\u001b[39m\u001b[38;5;241m0\u001b[39m] \u001b[38;5;241m=\u001b[39m \u001b[38;5;28;43mself\u001b[39;49m\u001b[38;5;241;43m.\u001b[39;49m\u001b[43merror\u001b[49m\n\u001b[1;32m    150\u001b[0m y_pred[y_pred\u001b[38;5;241m==\u001b[39m\u001b[38;5;241m1\u001b[39m] \u001b[38;5;241m=\u001b[39m \u001b[38;5;241m1\u001b[39m \u001b[38;5;241m-\u001b[39m \u001b[38;5;28mself\u001b[39m\u001b[38;5;241m.\u001b[39merror\n\u001b[1;32m    152\u001b[0m \u001b[38;5;66;03m#calculate binary cross entropy loss\u001b[39;00m\n",
      "\u001b[0;31mAttributeError\u001b[0m: 'LogisticRegressor' object has no attribute 'error'"
     ]
    }
   ],
   "source": [
    "# Load data\n",
    "X_train, X_val, y_train, y_val = regression.utils.loadDataset(\n",
    "    features=[\n",
    "        'Penicillin V Potassium 500 MG',\n",
    "        'Computed tomography of chest and abdomen',\n",
    "        'Plain chest X-ray (procedure)',\n",
    "        'Low Density Lipoprotein Cholesterol',\n",
    "        'Creatinine',\n",
    "        'AGE_DIAGNOSIS'\n",
    "    ],\n",
    "    split_percent=0.8,\n",
    "    split_seed=42\n",
    ")\n",
    "\n",
    "# Scale the data, since values vary across feature. Note that we\n",
    "# fit on the training data and use the same scaler for X_val.\n",
    "sc = StandardScaler()\n",
    "X_train = sc.fit_transform(X_train)\n",
    "X_val = sc.transform(X_val)\n",
    "\n",
    "# For testing purposes, once you've added your code.\n",
    "# CAUTION: hyperparameters have not been optimized.\n",
    "log_model = regression.logreg.LogisticRegressor(num_feats=6, learning_rate=0.00001, tol=0.01, max_iter=10, batch_size=10)\n",
    "log_model.train_model(X_train, y_train, X_val, y_val)\n",
    "log_model.plot_loss_history()"
   ]
  },
  {
   "cell_type": "code",
   "execution_count": null,
   "id": "19751a81",
   "metadata": {},
   "outputs": [],
   "source": []
  }
 ],
 "metadata": {
  "kernelspec": {
   "display_name": "Python 3 (ipykernel)",
   "language": "python",
   "name": "python3"
  },
  "language_info": {
   "codemirror_mode": {
    "name": "ipython",
    "version": 3
   },
   "file_extension": ".py",
   "mimetype": "text/x-python",
   "name": "python",
   "nbconvert_exporter": "python",
   "pygments_lexer": "ipython3",
   "version": "3.9.12"
  }
 },
 "nbformat": 4,
 "nbformat_minor": 5
}
